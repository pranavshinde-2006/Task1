{
 "cells": [
  {
   "cell_type": "code",
   "execution_count": 2,
   "id": "37f605dc-c53a-4c82-9872-9cf4db13d00d",
   "metadata": {},
   "outputs": [],
   "source": [
    "# importing\n",
    "\n",
    "import numpy as np\n",
    "import pandas as pd\n",
    "import matplotlib.pyplot as plt\n",
    "import seaborn as sns"
   ]
  },
  {
   "cell_type": "code",
   "execution_count": 3,
   "id": "ffc33bd2-110a-40ea-866e-0acdb641d4d4",
   "metadata": {},
   "outputs": [
    {
     "data": {
      "text/html": [
       "<div>\n",
       "<style scoped>\n",
       "    .dataframe tbody tr th:only-of-type {\n",
       "        vertical-align: middle;\n",
       "    }\n",
       "\n",
       "    .dataframe tbody tr th {\n",
       "        vertical-align: top;\n",
       "    }\n",
       "\n",
       "    .dataframe thead th {\n",
       "        text-align: right;\n",
       "    }\n",
       "</style>\n",
       "<table border=\"1\" class=\"dataframe\">\n",
       "  <thead>\n",
       "    <tr style=\"text-align: right;\">\n",
       "      <th></th>\n",
       "      <th>Name</th>\n",
       "      <th>Age</th>\n",
       "      <th>Gender</th>\n",
       "      <th>Email</th>\n",
       "      <th>Join_Date</th>\n",
       "      <th>Salary</th>\n",
       "      <th>Department</th>\n",
       "    </tr>\n",
       "  </thead>\n",
       "  <tbody>\n",
       "    <tr>\n",
       "      <th>0</th>\n",
       "      <td>Alice</td>\n",
       "      <td>NaN</td>\n",
       "      <td>NaN</td>\n",
       "      <td>user0@example.com</td>\n",
       "      <td>2021-05-21</td>\n",
       "      <td>NaN</td>\n",
       "      <td>Admin</td>\n",
       "    </tr>\n",
       "    <tr>\n",
       "      <th>1</th>\n",
       "      <td>Bob</td>\n",
       "      <td>40</td>\n",
       "      <td>M</td>\n",
       "      <td>user1@example.com</td>\n",
       "      <td>NaN</td>\n",
       "      <td>50000</td>\n",
       "      <td>Engineering</td>\n",
       "    </tr>\n",
       "    <tr>\n",
       "      <th>2</th>\n",
       "      <td>Charlie</td>\n",
       "      <td>unknown</td>\n",
       "      <td>Male</td>\n",
       "      <td>user2@example.com</td>\n",
       "      <td>2020/01/01</td>\n",
       "      <td>50000</td>\n",
       "      <td>HR</td>\n",
       "    </tr>\n",
       "    <tr>\n",
       "      <th>3</th>\n",
       "      <td>David</td>\n",
       "      <td>NaN</td>\n",
       "      <td>NaN</td>\n",
       "      <td>user3@example.com</td>\n",
       "      <td>2021-05-21</td>\n",
       "      <td>70000</td>\n",
       "      <td>Admin</td>\n",
       "    </tr>\n",
       "    <tr>\n",
       "      <th>4</th>\n",
       "      <td>Eva</td>\n",
       "      <td>35</td>\n",
       "      <td>Other</td>\n",
       "      <td>user4@example.com</td>\n",
       "      <td>July 4, 2020</td>\n",
       "      <td>70000</td>\n",
       "      <td>Engineering</td>\n",
       "    </tr>\n",
       "    <tr>\n",
       "      <th>...</th>\n",
       "      <td>...</td>\n",
       "      <td>...</td>\n",
       "      <td>...</td>\n",
       "      <td>...</td>\n",
       "      <td>...</td>\n",
       "      <td>...</td>\n",
       "      <td>...</td>\n",
       "    </tr>\n",
       "    <tr>\n",
       "      <th>100</th>\n",
       "      <td>Alice</td>\n",
       "      <td>NaN</td>\n",
       "      <td>NaN</td>\n",
       "      <td>user0@example.com</td>\n",
       "      <td>2021-05-21</td>\n",
       "      <td>NaN</td>\n",
       "      <td>Admin</td>\n",
       "    </tr>\n",
       "    <tr>\n",
       "      <th>101</th>\n",
       "      <td>Bob</td>\n",
       "      <td>40</td>\n",
       "      <td>M</td>\n",
       "      <td>user1@example.com</td>\n",
       "      <td>NaN</td>\n",
       "      <td>50000</td>\n",
       "      <td>Engineering</td>\n",
       "    </tr>\n",
       "    <tr>\n",
       "      <th>102</th>\n",
       "      <td>Charlie</td>\n",
       "      <td>unknown</td>\n",
       "      <td>Male</td>\n",
       "      <td>user2@example.com</td>\n",
       "      <td>2020/01/01</td>\n",
       "      <td>50000</td>\n",
       "      <td>HR</td>\n",
       "    </tr>\n",
       "    <tr>\n",
       "      <th>103</th>\n",
       "      <td>David</td>\n",
       "      <td>NaN</td>\n",
       "      <td>NaN</td>\n",
       "      <td>user3@example.com</td>\n",
       "      <td>2021-05-21</td>\n",
       "      <td>70000</td>\n",
       "      <td>Admin</td>\n",
       "    </tr>\n",
       "    <tr>\n",
       "      <th>104</th>\n",
       "      <td>Eva</td>\n",
       "      <td>35</td>\n",
       "      <td>Other</td>\n",
       "      <td>user4@example.com</td>\n",
       "      <td>July 4, 2020</td>\n",
       "      <td>70000</td>\n",
       "      <td>Engineering</td>\n",
       "    </tr>\n",
       "  </tbody>\n",
       "</table>\n",
       "<p>105 rows × 7 columns</p>\n",
       "</div>"
      ],
      "text/plain": [
       "        Name      Age Gender              Email     Join_Date Salary  \\\n",
       "0      Alice      NaN    NaN  user0@example.com    2021-05-21    NaN   \n",
       "1        Bob       40      M  user1@example.com           NaN  50000   \n",
       "2    Charlie  unknown   Male  user2@example.com    2020/01/01  50000   \n",
       "3      David      NaN    NaN  user3@example.com    2021-05-21  70000   \n",
       "4        Eva       35  Other  user4@example.com  July 4, 2020  70000   \n",
       "..       ...      ...    ...                ...           ...    ...   \n",
       "100    Alice      NaN    NaN  user0@example.com    2021-05-21    NaN   \n",
       "101      Bob       40      M  user1@example.com           NaN  50000   \n",
       "102  Charlie  unknown   Male  user2@example.com    2020/01/01  50000   \n",
       "103    David      NaN    NaN  user3@example.com    2021-05-21  70000   \n",
       "104      Eva       35  Other  user4@example.com  July 4, 2020  70000   \n",
       "\n",
       "      Department  \n",
       "0          Admin  \n",
       "1    Engineering  \n",
       "2             HR  \n",
       "3          Admin  \n",
       "4    Engineering  \n",
       "..           ...  \n",
       "100        Admin  \n",
       "101  Engineering  \n",
       "102           HR  \n",
       "103        Admin  \n",
       "104  Engineering  \n",
       "\n",
       "[105 rows x 7 columns]"
      ]
     },
     "execution_count": 3,
     "metadata": {},
     "output_type": "execute_result"
    }
   ],
   "source": [
    "# import dataset\n",
    "\n",
    "ds=pd.read_csv(\"raw_messy_dataset.csv\")\n",
    "ds"
   ]
  },
  {
   "cell_type": "code",
   "execution_count": 4,
   "id": "fd9a33ac-0965-42d8-8a12-58f6b811e964",
   "metadata": {},
   "outputs": [
    {
     "name": "stdout",
     "output_type": "stream",
     "text": [
      "<class 'pandas.core.frame.DataFrame'>\n",
      "RangeIndex: 105 entries, 0 to 104\n",
      "Data columns (total 7 columns):\n",
      " #   Column      Non-Null Count  Dtype \n",
      "---  ------      --------------  ----- \n",
      " 0   Name        105 non-null    object\n",
      " 1   Age         72 non-null     object\n",
      " 2   Gender      89 non-null     object\n",
      " 3   Email       95 non-null     object\n",
      " 4   Join_Date   70 non-null     object\n",
      " 5   Salary      78 non-null     object\n",
      " 6   Department  89 non-null     object\n",
      "dtypes: object(7)\n",
      "memory usage: 5.9+ KB\n"
     ]
    }
   ],
   "source": [
    "#\n",
    "\n",
    "ds.info()"
   ]
  },
  {
   "cell_type": "code",
   "execution_count": 5,
   "id": "164b5529-b18c-42fc-a77d-28ecfd5125b2",
   "metadata": {},
   "outputs": [
    {
     "data": {
      "text/html": [
       "<div>\n",
       "<style scoped>\n",
       "    .dataframe tbody tr th:only-of-type {\n",
       "        vertical-align: middle;\n",
       "    }\n",
       "\n",
       "    .dataframe tbody tr th {\n",
       "        vertical-align: top;\n",
       "    }\n",
       "\n",
       "    .dataframe thead th {\n",
       "        text-align: right;\n",
       "    }\n",
       "</style>\n",
       "<table border=\"1\" class=\"dataframe\">\n",
       "  <thead>\n",
       "    <tr style=\"text-align: right;\">\n",
       "      <th></th>\n",
       "      <th>Name</th>\n",
       "      <th>Age</th>\n",
       "      <th>Gender</th>\n",
       "      <th>Email</th>\n",
       "      <th>Join_Date</th>\n",
       "      <th>Salary</th>\n",
       "      <th>Department</th>\n",
       "    </tr>\n",
       "  </thead>\n",
       "  <tbody>\n",
       "    <tr>\n",
       "      <th>count</th>\n",
       "      <td>105</td>\n",
       "      <td>72</td>\n",
       "      <td>89</td>\n",
       "      <td>95</td>\n",
       "      <td>70</td>\n",
       "      <td>78</td>\n",
       "      <td>89</td>\n",
       "    </tr>\n",
       "    <tr>\n",
       "      <th>unique</th>\n",
       "      <td>10</td>\n",
       "      <td>5</td>\n",
       "      <td>5</td>\n",
       "      <td>90</td>\n",
       "      <td>4</td>\n",
       "      <td>5</td>\n",
       "      <td>5</td>\n",
       "    </tr>\n",
       "    <tr>\n",
       "      <th>top</th>\n",
       "      <td>Alice</td>\n",
       "      <td>40</td>\n",
       "      <td>Male</td>\n",
       "      <td>user0@example.com</td>\n",
       "      <td>2021-05-21</td>\n",
       "      <td>50000</td>\n",
       "      <td>Engineering</td>\n",
       "    </tr>\n",
       "    <tr>\n",
       "      <th>freq</th>\n",
       "      <td>11</td>\n",
       "      <td>22</td>\n",
       "      <td>22</td>\n",
       "      <td>2</td>\n",
       "      <td>26</td>\n",
       "      <td>22</td>\n",
       "      <td>26</td>\n",
       "    </tr>\n",
       "  </tbody>\n",
       "</table>\n",
       "</div>"
      ],
      "text/plain": [
       "         Name Age Gender              Email   Join_Date Salary   Department\n",
       "count     105  72     89                 95          70     78           89\n",
       "unique     10   5      5                 90           4      5            5\n",
       "top     Alice  40   Male  user0@example.com  2021-05-21  50000  Engineering\n",
       "freq       11  22     22                  2          26     22           26"
      ]
     },
     "execution_count": 5,
     "metadata": {},
     "output_type": "execute_result"
    }
   ],
   "source": [
    "# discribe\n",
    "\n",
    "ds.describe()"
   ]
  },
  {
   "cell_type": "code",
   "execution_count": 6,
   "id": "07c39523-e34a-435d-9a91-0493508c8bce",
   "metadata": {},
   "outputs": [
    {
     "data": {
      "text/plain": [
       "5"
      ]
     },
     "execution_count": 6,
     "metadata": {},
     "output_type": "execute_result"
    }
   ],
   "source": [
    "# searching for duplicates\n",
    "\n",
    "ds.duplicated().sum()"
   ]
  },
  {
   "cell_type": "code",
   "execution_count": 7,
   "id": "af5906d1-7535-41f3-8fca-993c0e371f17",
   "metadata": {},
   "outputs": [],
   "source": [
    "# remove duplicates\n",
    "\n",
    "ds.drop_duplicates(inplace=True)"
   ]
  },
  {
   "cell_type": "code",
   "execution_count": 8,
   "id": "99730385-315b-44fc-97d3-795b2592d3aa",
   "metadata": {},
   "outputs": [
    {
     "data": {
      "text/plain": [
       "Index(['Name', 'Age', 'Gender', 'Email', 'Join_Date', 'Salary', 'Department'], dtype='object')"
      ]
     },
     "execution_count": 8,
     "metadata": {},
     "output_type": "execute_result"
    }
   ],
   "source": [
    "# it returns with column header \n",
    "\n",
    "ds.columns"
   ]
  },
  {
   "cell_type": "code",
   "execution_count": 9,
   "id": "5c9f0aee-3af6-4a15-bd5b-4b120ca8cd24",
   "metadata": {},
   "outputs": [],
   "source": [
    "# handling age\n",
    "\n",
    "ds[\"Age\"]=pd.to_numeric(ds[\"Age\"],errors='coerce')\n"
   ]
  },
  {
   "cell_type": "code",
   "execution_count": 10,
   "id": "976c14b8-baa6-4731-8583-f1772092e45d",
   "metadata": {},
   "outputs": [
    {
     "name": "stdout",
     "output_type": "stream",
     "text": [
      "<class 'pandas.core.frame.DataFrame'>\n",
      "Index: 100 entries, 0 to 99\n",
      "Data columns (total 7 columns):\n",
      " #   Column      Non-Null Count  Dtype  \n",
      "---  ------      --------------  -----  \n",
      " 0   Name        100 non-null    object \n",
      " 1   Age         57 non-null     float64\n",
      " 2   Gender      86 non-null     object \n",
      " 3   Email       90 non-null     object \n",
      " 4   Join_Date   66 non-null     object \n",
      " 5   Salary      74 non-null     object \n",
      " 6   Department  84 non-null     object \n",
      "dtypes: float64(1), object(6)\n",
      "memory usage: 6.2+ KB\n"
     ]
    }
   ],
   "source": [
    "ds.info()"
   ]
  },
  {
   "cell_type": "code",
   "execution_count": 11,
   "id": "94c11889-5a79-4cfa-b693-39fd3e482b25",
   "metadata": {},
   "outputs": [
    {
     "name": "stderr",
     "output_type": "stream",
     "text": [
      "C:\\Users\\Admin\\AppData\\Local\\Temp\\ipykernel_9096\\3567193554.py:4: FutureWarning: A value is trying to be set on a copy of a DataFrame or Series through chained assignment using an inplace method.\n",
      "The behavior will change in pandas 3.0. This inplace method will never work because the intermediate object on which we are setting values always behaves as a copy.\n",
      "\n",
      "For example, when doing 'df[col].method(value, inplace=True)', try using 'df.method({col: value}, inplace=True)' or df[col] = df[col].method(value) instead, to perform the operation inplace on the original object.\n",
      "\n",
      "\n",
      "  ds[\"Age\"].fillna(x, inplace=True)\n"
     ]
    }
   ],
   "source": [
    "# filling missing value in age column\n",
    "\n",
    "x=ds[\"Age\"].median()\n",
    "ds[\"Age\"].fillna(x, inplace=True)"
   ]
  },
  {
   "cell_type": "code",
   "execution_count": 12,
   "id": "0429fab2-3088-4652-b64f-d3d6b914a343",
   "metadata": {},
   "outputs": [
    {
     "data": {
      "text/plain": [
       "array([35., 40., 30., 25.])"
      ]
     },
     "execution_count": 12,
     "metadata": {},
     "output_type": "execute_result"
    }
   ],
   "source": [
    "ds[\"Age\"].unique()"
   ]
  },
  {
   "cell_type": "code",
   "execution_count": 13,
   "id": "48dda886-93d9-4ee9-b4db-b707ee89b712",
   "metadata": {},
   "outputs": [
    {
     "data": {
      "text/plain": [
       "array([nan, 'M', 'Male', 'Other', 'Female', 'F'], dtype=object)"
      ]
     },
     "execution_count": 13,
     "metadata": {},
     "output_type": "execute_result"
    }
   ],
   "source": [
    "ds[\"Gender\"].unique()"
   ]
  },
  {
   "cell_type": "code",
   "execution_count": 14,
   "id": "661b2cfd-a210-40b8-ab88-e82859b79d5e",
   "metadata": {},
   "outputs": [],
   "source": [
    "# standerized Gender column\n",
    "\n",
    "ds[\"Gender\"]=ds[\"Gender\"].replace({\n",
    "    \"M\" : \"Male\", \"F\" : \"Female\", \"\" : \"None\"\n",
    "})"
   ]
  },
  {
   "cell_type": "code",
   "execution_count": 15,
   "id": "1d681e27-22ca-4950-9bd5-80d40d7125b4",
   "metadata": {},
   "outputs": [
    {
     "data": {
      "text/plain": [
       "array([nan, 'Male', 'Other', 'Female'], dtype=object)"
      ]
     },
     "execution_count": 15,
     "metadata": {},
     "output_type": "execute_result"
    }
   ],
   "source": [
    "ds[\"Gender\"].unique()"
   ]
  },
  {
   "cell_type": "code",
   "execution_count": 16,
   "id": "81a1cdb5-a9df-4221-bb17-957921067200",
   "metadata": {},
   "outputs": [
    {
     "name": "stderr",
     "output_type": "stream",
     "text": [
      "C:\\Users\\Admin\\AppData\\Local\\Temp\\ipykernel_9096\\606043383.py:1: FutureWarning: A value is trying to be set on a copy of a DataFrame or Series through chained assignment using an inplace method.\n",
      "The behavior will change in pandas 3.0. This inplace method will never work because the intermediate object on which we are setting values always behaves as a copy.\n",
      "\n",
      "For example, when doing 'df[col].method(value, inplace=True)', try using 'df.method({col: value}, inplace=True)' or df[col] = df[col].method(value) instead, to perform the operation inplace on the original object.\n",
      "\n",
      "\n",
      "  ds[\"Email\"].fillna(\"-\", inplace=True)\n"
     ]
    }
   ],
   "source": [
    "\n",
    "\n",
    "ds[\"Email\"].fillna(\"-\", inplace=True)"
   ]
  },
  {
   "cell_type": "code",
   "execution_count": 17,
   "id": "b95f4e37-7591-4561-8b0d-7875082048cd",
   "metadata": {},
   "outputs": [
    {
     "data": {
      "text/plain": [
       "'       Name   Age  Gender               Email     Join_Date   Salary   Department\\n0     Alice  35.0     NaN   user0@example.com    2021-05-21      NaN        Admin\\n1       Bob  40.0    Male   user1@example.com           NaN    50000  Engineering\\n2   Charlie  35.0    Male   user2@example.com    2020/01/01    50000           HR\\n3     David  35.0     NaN   user3@example.com    2021-05-21    70000        Admin\\n4       Eva  35.0   Other   user4@example.com  July 4, 2020    70000  Engineering\\n5     Frank  35.0   Other   user5@example.com           NaN    70000        Admin\\n6     Grace  35.0  Female   user6@example.com  July 4, 2020    80000  Engineering\\n7    Hannah  35.0   Other   user7@example.com    2021-05-21      NaN           HR\\n8       Ivy  30.0  Female   user8@example.com           NaN    50000  Engineering\\n9      Jack  35.0    Male   user9@example.com    2020/01/01    80000  Engineering\\n10    Alice  35.0    Male  user10@example.com    2021-05-21    70000  Engineering\\n11      Bob  35.0    Male  user11@example.com  July 4, 2020    50000        Sales\\n12  Charlie  35.0    Male  user12@example.com    22-06-2022    80000        Sales\\n13    David  35.0   Other  user13@example.com           NaN      NaN        Sales\\n14      Eva  40.0    Male  user14@example.com  July 4, 2020    80000           HR\\n15    Frank  35.0   Other  user15@example.com           NaN      NaN        Admin\\n16    Grace  35.0   Other  user16@example.com    2021-05-21    70000          NaN\\n17   Hannah  35.0    Male  user17@example.com           NaN      NaN  Engineering\\n18      Ivy  30.0    Male  user18@example.com    2021-05-21    50000  Engineering\\n19     Jack  40.0    Male  user19@example.com           NaN    70000           HR\\n20    Alice  35.0    Male  user20@example.com    2021-05-21    50000  Engineering\\n21      Bob  35.0    Male  user21@example.com    22-06-2022  unknown        Sales\\n22  Charlie  30.0  Female  user22@example.com           NaN    60000          NaN\\n23    David  40.0  Female  user23@example.com           NaN      NaN    Marketing\\n24      Eva  35.0    Male  user24@example.com           NaN    60000  Engineering\\n25    Frank  25.0  Female  user25@example.com    22-06-2022    60000        Sales\\n26    Grace  40.0  Female  user26@example.com  July 4, 2020      NaN    Marketing\\n27   Hannah  30.0    Male  user27@example.com    2021-05-21    70000          NaN\\n28      Ivy  35.0  Female  user28@example.com    2020/01/01  unknown    Marketing\\n29     Jack  35.0   Other  user29@example.com    2021-05-21    50000        Sales\\n30    Alice  40.0  Female  user30@example.com    2021-05-21    80000        Admin\\n31      Bob  25.0  Female  user31@example.com  July 4, 2020    50000        Admin\\n32  Charlie  25.0    Male  user32@example.com    2021-05-21    80000    Marketing\\n33    David  35.0    Male  user33@example.com    22-06-2022    50000           HR\\n34      Eva  35.0    Male  user34@example.com    22-06-2022      NaN    Marketing\\n35    Frank  35.0    Male  user35@example.com           NaN  unknown  Engineering\\n36    Grace  30.0  Female  user36@example.com           NaN    80000  Engineering\\n37   Hannah  40.0    Male  user37@example.com    2020/01/01      NaN        Admin\\n38      Ivy  40.0     NaN  user38@example.com    2021-05-21    70000           HR\\n39     Jack  35.0   Other  user39@example.com    2021-05-21    50000        Sales\\n40    Alice  35.0  Female  user40@example.com  July 4, 2020    50000  Engineering\\n41      Bob  35.0    Male  user41@example.com           NaN    80000        Admin\\n42  Charlie  35.0     NaN  user42@example.com    22-06-2022    70000          NaN\\n43    David  35.0  Female  user43@example.com    2020/01/01    70000        Admin\\n44      Eva  35.0  Female  user44@example.com           NaN      NaN  Engineering\\n45    Frank  40.0    Male  user45@example.com    22-06-2022      NaN  Engineering\\n46    Grace  35.0  Female  user46@example.com           NaN      NaN        Admin\\n47   Hannah  40.0   Other  user47@example.com           NaN      NaN        Sales\\n48      Ivy  25.0     NaN  user48@example.com  July 4, 2020      NaN    Marketing\\n49     Jack  35.0  Female  user49@example.com  July 4, 2020      NaN  Engineering\\n50    Alice  35.0    Male  user50@example.com    2021-05-21      NaN        Admin\\n51      Bob  35.0   Other  user51@example.com           NaN  unknown        Admin\\n52  Charlie  35.0  Female  user52@example.com    2020/01/01    70000           HR\\n53    David  35.0     NaN  user53@example.com           NaN      NaN    Marketing\\n54      Eva  25.0  Female  user54@example.com    22-06-2022    70000          NaN\\n55    Frank  35.0    Male  user55@example.com           NaN    70000        Sales\\n56    Grace  30.0  Female  user56@example.com           NaN    60000          NaN\\n57   Hannah  40.0  Female  user57@example.com  July 4, 2020  unknown    Marketing\\n58      Ivy  25.0    Male  user58@example.com    2021-05-21      NaN    Marketing\\n59     Jack  40.0   Other  user59@example.com    2021-05-21    50000    Marketing\\n60    Alice  35.0  Female  user60@example.com           NaN    80000          NaN\\n61      Bob  30.0    Male  user61@example.com  July 4, 2020      NaN    Marketing\\n62  Charlie  30.0    Male  user62@example.com           NaN    50000        Admin\\n63    David  25.0   Other  user63@example.com    2020/01/01  unknown          NaN\\n64      Eva  30.0    Male  user64@example.com  July 4, 2020    80000    Marketing\\n65    Frank  35.0     NaN  user65@example.com           NaN  unknown        Admin\\n66    Grace  30.0   Other  user66@example.com           NaN    70000           HR\\n67   Hannah  40.0   Other  user67@example.com  July 4, 2020    80000    Marketing\\n68      Ivy  40.0  Female  user68@example.com           NaN    70000          NaN\\n69     Jack  35.0   Other  user69@example.com  July 4, 2020    50000  Engineering\\n70    Alice  40.0    Male  user70@example.com    22-06-2022    50000    Marketing\\n71      Bob  35.0   Other  user71@example.com  July 4, 2020    80000  Engineering\\n72  Charlie  40.0  Female  user72@example.com  July 4, 2020    80000        Admin\\n73    David  35.0  Female  user73@example.com           NaN      NaN           HR\\n74      Eva  35.0     NaN  user74@example.com           NaN  unknown        Sales\\n75    Frank  35.0    Male  user75@example.com    2021-05-21      NaN           HR\\n76    Grace  35.0  Female  user76@example.com    2021-05-21  unknown    Marketing\\n77   Hannah  25.0  Female  user77@example.com    22-06-2022      NaN  Engineering\\n78      Ivy  40.0   Other  user78@example.com    2021-05-21    70000  Engineering\\n79     Jack  30.0     NaN  user79@example.com  July 4, 2020    80000          NaN\\n80    Alice  40.0    Male  user80@example.com           NaN    50000  Engineering\\n81      Bob  30.0   Other  user81@example.com    2021-05-21  unknown          NaN\\n82  Charlie  35.0     NaN  user82@example.com    2021-05-21  unknown        Admin\\n83    David  35.0    Male  user83@example.com    22-06-2022    50000        Sales\\n84      Eva  35.0    Male  user84@example.com           NaN      NaN    Marketing\\n85    Frank  30.0    Male  user85@example.com    22-06-2022  unknown          NaN\\n86    Grace  40.0    Male  user86@example.com  July 4, 2020      NaN        Sales\\n87   Hannah  35.0    Male  user87@example.com           NaN    70000  Engineering\\n88      Ivy  35.0     NaN  user88@example.com    22-06-2022    80000  Engineering\\n89     Jack  35.0     NaN  user89@example.com    2021-05-21    50000        Sales\\n90    Alice  30.0  Female                   -           NaN    80000  Engineering\\n91      Bob  30.0  Female                   -           NaN      NaN        Admin\\n92  Charlie  40.0    Male                   -    2021-05-21  unknown        Admin\\n93    David  30.0    Male                   -    22-06-2022  unknown        Sales\\n94      Eva  30.0     NaN                   -    2021-05-21      NaN          NaN\\n95    Frank  35.0    Male                   -           NaN    50000          NaN\\n96    Grace  40.0    Male                   -           NaN    70000        Sales\\n97   Hannah  35.0    Male                   -    2020/01/01    60000          NaN\\n98      Ivy  35.0  Female                   -    2020/01/01    50000          NaN\\n99     Jack  35.0     NaN                   -  July 4, 2020    60000        Admin'"
      ]
     },
     "execution_count": 17,
     "metadata": {},
     "output_type": "execute_result"
    }
   ],
   "source": [
    "ds.to_string()"
   ]
  },
  {
   "cell_type": "code",
   "execution_count": 19,
   "id": "bbee7fd2-bee1-4ce4-a4c7-b434e4bbd877",
   "metadata": {},
   "outputs": [
    {
     "name": "stdout",
     "output_type": "stream",
     "text": [
      "       Name   Age  Gender               Email     Join_Date   Salary   Department\n",
      "0     Alice  35.0     NaN   user0@example.com    2021-05-21      NaN        Admin\n",
      "1       Bob  40.0    Male   user1@example.com           NaN    50000  Engineering\n",
      "2   Charlie  35.0    Male   user2@example.com    2020/01/01    50000           HR\n",
      "3     David  35.0     NaN   user3@example.com    2021-05-21    70000        Admin\n",
      "4       Eva  35.0   Other   user4@example.com  July 4, 2020    70000  Engineering\n",
      "5     Frank  35.0   Other   user5@example.com           NaN    70000        Admin\n",
      "6     Grace  35.0  Female   user6@example.com  July 4, 2020    80000  Engineering\n",
      "7    Hannah  35.0   Other   user7@example.com    2021-05-21      NaN           HR\n",
      "8       Ivy  30.0  Female   user8@example.com           NaN    50000  Engineering\n",
      "9      Jack  35.0    Male   user9@example.com    2020/01/01    80000  Engineering\n",
      "10    Alice  35.0    Male  user10@example.com    2021-05-21    70000  Engineering\n",
      "11      Bob  35.0    Male  user11@example.com  July 4, 2020    50000        Sales\n",
      "12  Charlie  35.0    Male  user12@example.com    22-06-2022    80000        Sales\n",
      "13    David  35.0   Other  user13@example.com           NaN      NaN        Sales\n",
      "14      Eva  40.0    Male  user14@example.com  July 4, 2020    80000           HR\n",
      "15    Frank  35.0   Other  user15@example.com           NaN      NaN        Admin\n",
      "16    Grace  35.0   Other  user16@example.com    2021-05-21    70000          NaN\n",
      "17   Hannah  35.0    Male  user17@example.com           NaN      NaN  Engineering\n",
      "18      Ivy  30.0    Male  user18@example.com    2021-05-21    50000  Engineering\n",
      "19     Jack  40.0    Male  user19@example.com           NaN    70000           HR\n",
      "20    Alice  35.0    Male  user20@example.com    2021-05-21    50000  Engineering\n",
      "21      Bob  35.0    Male  user21@example.com    22-06-2022  unknown        Sales\n",
      "22  Charlie  30.0  Female  user22@example.com           NaN    60000          NaN\n",
      "23    David  40.0  Female  user23@example.com           NaN      NaN    Marketing\n",
      "24      Eva  35.0    Male  user24@example.com           NaN    60000  Engineering\n",
      "25    Frank  25.0  Female  user25@example.com    22-06-2022    60000        Sales\n",
      "26    Grace  40.0  Female  user26@example.com  July 4, 2020      NaN    Marketing\n",
      "27   Hannah  30.0    Male  user27@example.com    2021-05-21    70000          NaN\n",
      "28      Ivy  35.0  Female  user28@example.com    2020/01/01  unknown    Marketing\n",
      "29     Jack  35.0   Other  user29@example.com    2021-05-21    50000        Sales\n",
      "30    Alice  40.0  Female  user30@example.com    2021-05-21    80000        Admin\n",
      "31      Bob  25.0  Female  user31@example.com  July 4, 2020    50000        Admin\n",
      "32  Charlie  25.0    Male  user32@example.com    2021-05-21    80000    Marketing\n",
      "33    David  35.0    Male  user33@example.com    22-06-2022    50000           HR\n",
      "34      Eva  35.0    Male  user34@example.com    22-06-2022      NaN    Marketing\n",
      "35    Frank  35.0    Male  user35@example.com           NaN  unknown  Engineering\n",
      "36    Grace  30.0  Female  user36@example.com           NaN    80000  Engineering\n",
      "37   Hannah  40.0    Male  user37@example.com    2020/01/01      NaN        Admin\n",
      "38      Ivy  40.0     NaN  user38@example.com    2021-05-21    70000           HR\n",
      "39     Jack  35.0   Other  user39@example.com    2021-05-21    50000        Sales\n",
      "40    Alice  35.0  Female  user40@example.com  July 4, 2020    50000  Engineering\n",
      "41      Bob  35.0    Male  user41@example.com           NaN    80000        Admin\n",
      "42  Charlie  35.0     NaN  user42@example.com    22-06-2022    70000          NaN\n",
      "43    David  35.0  Female  user43@example.com    2020/01/01    70000        Admin\n",
      "44      Eva  35.0  Female  user44@example.com           NaN      NaN  Engineering\n",
      "45    Frank  40.0    Male  user45@example.com    22-06-2022      NaN  Engineering\n",
      "46    Grace  35.0  Female  user46@example.com           NaN      NaN        Admin\n",
      "47   Hannah  40.0   Other  user47@example.com           NaN      NaN        Sales\n",
      "48      Ivy  25.0     NaN  user48@example.com  July 4, 2020      NaN    Marketing\n",
      "49     Jack  35.0  Female  user49@example.com  July 4, 2020      NaN  Engineering\n",
      "50    Alice  35.0    Male  user50@example.com    2021-05-21      NaN        Admin\n",
      "51      Bob  35.0   Other  user51@example.com           NaN  unknown        Admin\n",
      "52  Charlie  35.0  Female  user52@example.com    2020/01/01    70000           HR\n",
      "53    David  35.0     NaN  user53@example.com           NaN      NaN    Marketing\n",
      "54      Eva  25.0  Female  user54@example.com    22-06-2022    70000          NaN\n",
      "55    Frank  35.0    Male  user55@example.com           NaN    70000        Sales\n",
      "56    Grace  30.0  Female  user56@example.com           NaN    60000          NaN\n",
      "57   Hannah  40.0  Female  user57@example.com  July 4, 2020  unknown    Marketing\n",
      "58      Ivy  25.0    Male  user58@example.com    2021-05-21      NaN    Marketing\n",
      "59     Jack  40.0   Other  user59@example.com    2021-05-21    50000    Marketing\n",
      "60    Alice  35.0  Female  user60@example.com           NaN    80000          NaN\n",
      "61      Bob  30.0    Male  user61@example.com  July 4, 2020      NaN    Marketing\n",
      "62  Charlie  30.0    Male  user62@example.com           NaN    50000        Admin\n",
      "63    David  25.0   Other  user63@example.com    2020/01/01  unknown          NaN\n",
      "64      Eva  30.0    Male  user64@example.com  July 4, 2020    80000    Marketing\n",
      "65    Frank  35.0     NaN  user65@example.com           NaN  unknown        Admin\n",
      "66    Grace  30.0   Other  user66@example.com           NaN    70000           HR\n",
      "67   Hannah  40.0   Other  user67@example.com  July 4, 2020    80000    Marketing\n",
      "68      Ivy  40.0  Female  user68@example.com           NaN    70000          NaN\n",
      "69     Jack  35.0   Other  user69@example.com  July 4, 2020    50000  Engineering\n",
      "70    Alice  40.0    Male  user70@example.com    22-06-2022    50000    Marketing\n",
      "71      Bob  35.0   Other  user71@example.com  July 4, 2020    80000  Engineering\n",
      "72  Charlie  40.0  Female  user72@example.com  July 4, 2020    80000        Admin\n",
      "73    David  35.0  Female  user73@example.com           NaN      NaN           HR\n",
      "74      Eva  35.0     NaN  user74@example.com           NaN  unknown        Sales\n",
      "75    Frank  35.0    Male  user75@example.com    2021-05-21      NaN           HR\n",
      "76    Grace  35.0  Female  user76@example.com    2021-05-21  unknown    Marketing\n",
      "77   Hannah  25.0  Female  user77@example.com    22-06-2022      NaN  Engineering\n",
      "78      Ivy  40.0   Other  user78@example.com    2021-05-21    70000  Engineering\n",
      "79     Jack  30.0     NaN  user79@example.com  July 4, 2020    80000          NaN\n",
      "80    Alice  40.0    Male  user80@example.com           NaN    50000  Engineering\n",
      "81      Bob  30.0   Other  user81@example.com    2021-05-21  unknown          NaN\n",
      "82  Charlie  35.0     NaN  user82@example.com    2021-05-21  unknown        Admin\n",
      "83    David  35.0    Male  user83@example.com    22-06-2022    50000        Sales\n",
      "84      Eva  35.0    Male  user84@example.com           NaN      NaN    Marketing\n",
      "85    Frank  30.0    Male  user85@example.com    22-06-2022  unknown          NaN\n",
      "86    Grace  40.0    Male  user86@example.com  July 4, 2020      NaN        Sales\n",
      "87   Hannah  35.0    Male  user87@example.com           NaN    70000  Engineering\n",
      "88      Ivy  35.0     NaN  user88@example.com    22-06-2022    80000  Engineering\n",
      "89     Jack  35.0     NaN  user89@example.com    2021-05-21    50000        Sales\n",
      "90    Alice  30.0  Female                   -           NaN    80000  Engineering\n",
      "91      Bob  30.0  Female                   -           NaN      NaN        Admin\n",
      "92  Charlie  40.0    Male                   -    2021-05-21  unknown        Admin\n",
      "93    David  30.0    Male                   -    22-06-2022  unknown        Sales\n",
      "94      Eva  30.0     NaN                   -    2021-05-21      NaN          NaN\n",
      "95    Frank  35.0    Male                   -           NaN    50000          NaN\n",
      "96    Grace  40.0    Male                   -           NaN    70000        Sales\n",
      "97   Hannah  35.0    Male                   -    2020/01/01    60000          NaN\n",
      "98      Ivy  35.0  Female                   -    2020/01/01    50000          NaN\n",
      "99     Jack  35.0     NaN                   -  July 4, 2020    60000        Admin\n"
     ]
    }
   ],
   "source": [
    "print(ds.to_string())"
   ]
  },
  {
   "cell_type": "code",
   "execution_count": 20,
   "id": "d330fc9b-19d5-4825-b4ef-b0eb19562b9b",
   "metadata": {},
   "outputs": [
    {
     "name": "stdout",
     "output_type": "stream",
     "text": [
      "<class 'pandas.core.frame.DataFrame'>\n",
      "Index: 100 entries, 0 to 99\n",
      "Data columns (total 7 columns):\n",
      " #   Column      Non-Null Count  Dtype  \n",
      "---  ------      --------------  -----  \n",
      " 0   Name        100 non-null    object \n",
      " 1   Age         100 non-null    float64\n",
      " 2   Gender      86 non-null     object \n",
      " 3   Email       100 non-null    object \n",
      " 4   Join_Date   66 non-null     object \n",
      " 5   Salary      74 non-null     object \n",
      " 6   Department  84 non-null     object \n",
      "dtypes: float64(1), object(6)\n",
      "memory usage: 6.2+ KB\n"
     ]
    }
   ],
   "source": [
    "ds.info()"
   ]
  },
  {
   "cell_type": "code",
   "execution_count": 21,
   "id": "b7dd2674-5151-4d56-b090-fbd3f7681a8b",
   "metadata": {},
   "outputs": [],
   "source": [
    "ds[\"Join_Date\"]=pd.to_datetime(ds[\"Join_Date\"], errors='coerce')"
   ]
  },
  {
   "cell_type": "code",
   "execution_count": 23,
   "id": "6a187986-c3b2-4a81-8cb0-b94b72cf1102",
   "metadata": {},
   "outputs": [
    {
     "name": "stdout",
     "output_type": "stream",
     "text": [
      "<class 'pandas.core.frame.DataFrame'>\n",
      "Index: 100 entries, 0 to 99\n",
      "Data columns (total 7 columns):\n",
      " #   Column      Non-Null Count  Dtype         \n",
      "---  ------      --------------  -----         \n",
      " 0   Name        100 non-null    object        \n",
      " 1   Age         100 non-null    float64       \n",
      " 2   Gender      86 non-null     object        \n",
      " 3   Email       100 non-null    object        \n",
      " 4   Join_Date   24 non-null     datetime64[ns]\n",
      " 5   Salary      74 non-null     object        \n",
      " 6   Department  84 non-null     object        \n",
      "dtypes: datetime64[ns](1), float64(1), object(5)\n",
      "memory usage: 6.2+ KB\n"
     ]
    }
   ],
   "source": [
    "ds.info()"
   ]
  },
  {
   "cell_type": "code",
   "execution_count": 24,
   "id": "0efb975f-7e12-4832-b22b-441a841775b3",
   "metadata": {},
   "outputs": [],
   "source": [
    "ds[\"Salary\"]=pd.to_numeric(ds[\"Salary\"], errors='coerce')"
   ]
  },
  {
   "cell_type": "code",
   "execution_count": 25,
   "id": "12b0da5b-55ab-4585-b43c-9ff7596fd83b",
   "metadata": {},
   "outputs": [
    {
     "name": "stdout",
     "output_type": "stream",
     "text": [
      "<class 'pandas.core.frame.DataFrame'>\n",
      "Index: 100 entries, 0 to 99\n",
      "Data columns (total 7 columns):\n",
      " #   Column      Non-Null Count  Dtype         \n",
      "---  ------      --------------  -----         \n",
      " 0   Name        100 non-null    object        \n",
      " 1   Age         100 non-null    float64       \n",
      " 2   Gender      86 non-null     object        \n",
      " 3   Email       100 non-null    object        \n",
      " 4   Join_Date   24 non-null     datetime64[ns]\n",
      " 5   Salary      60 non-null     float64       \n",
      " 6   Department  84 non-null     object        \n",
      "dtypes: datetime64[ns](1), float64(2), object(4)\n",
      "memory usage: 6.2+ KB\n"
     ]
    }
   ],
   "source": [
    "ds.info()"
   ]
  },
  {
   "cell_type": "code",
   "execution_count": 26,
   "id": "ecb98da4-8458-4b3b-8db6-65b04afd66c4",
   "metadata": {},
   "outputs": [
    {
     "data": {
      "text/plain": [
       "array(['Admin', 'Engineering', 'HR', 'Sales', nan, 'Marketing'],\n",
       "      dtype=object)"
      ]
     },
     "execution_count": 26,
     "metadata": {},
     "output_type": "execute_result"
    }
   ],
   "source": [
    "ds[\"Department\"].unique()"
   ]
  },
  {
   "cell_type": "code",
   "execution_count": 27,
   "id": "890ad715-4f7c-4000-9075-c48ac4386792",
   "metadata": {},
   "outputs": [
    {
     "data": {
      "text/plain": [
       "'Engineering'"
      ]
     },
     "execution_count": 27,
     "metadata": {},
     "output_type": "execute_result"
    }
   ],
   "source": [
    "y=ds[\"Department\"].mode()[0]\n",
    "y"
   ]
  },
  {
   "cell_type": "code",
   "execution_count": 30,
   "id": "563bae27-adeb-4a89-88ff-eca90d32aee7",
   "metadata": {},
   "outputs": [],
   "source": [
    "y=ds[\"Department\"].mode()[0]\n",
    "ds[\"Department\"].fillna(y, inplace=True)"
   ]
  },
  {
   "cell_type": "code",
   "execution_count": 31,
   "id": "ef4c770a-0b6a-4b3a-8c80-409891ff7884",
   "metadata": {},
   "outputs": [
    {
     "name": "stdout",
     "output_type": "stream",
     "text": [
      "<class 'pandas.core.frame.DataFrame'>\n",
      "Index: 100 entries, 0 to 99\n",
      "Data columns (total 7 columns):\n",
      " #   Column      Non-Null Count  Dtype         \n",
      "---  ------      --------------  -----         \n",
      " 0   Name        100 non-null    object        \n",
      " 1   Age         100 non-null    float64       \n",
      " 2   Gender      86 non-null     object        \n",
      " 3   Email       100 non-null    object        \n",
      " 4   Join_Date   24 non-null     datetime64[ns]\n",
      " 5   Salary      60 non-null     float64       \n",
      " 6   Department  100 non-null    object        \n",
      "dtypes: datetime64[ns](1), float64(2), object(4)\n",
      "memory usage: 6.2+ KB\n"
     ]
    }
   ],
   "source": [
    "ds.info()"
   ]
  },
  {
   "cell_type": "code",
   "execution_count": 32,
   "id": "ab7b0451-16bf-4f2f-b015-af776ac8f33c",
   "metadata": {},
   "outputs": [],
   "source": [
    "ds.to_csv(\"cleaneddata.csv\")"
   ]
  },
  {
   "cell_type": "code",
   "execution_count": null,
   "id": "16aaa5eb-139b-4b4a-a423-a587a5ae5242",
   "metadata": {},
   "outputs": [],
   "source": []
  }
 ],
 "metadata": {
  "kernelspec": {
   "display_name": "Python 3 (ipykernel)",
   "language": "python",
   "name": "python3"
  },
  "language_info": {
   "codemirror_mode": {
    "name": "ipython",
    "version": 3
   },
   "file_extension": ".py",
   "mimetype": "text/x-python",
   "name": "python",
   "nbconvert_exporter": "python",
   "pygments_lexer": "ipython3",
   "version": "3.12.7"
  }
 },
 "nbformat": 4,
 "nbformat_minor": 5
}
